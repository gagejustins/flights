{
 "cells": [
  {
   "cell_type": "markdown",
   "metadata": {},
   "source": [
    "# Mistakes on a Plane"
   ]
  },
  {
   "cell_type": "markdown",
   "metadata": {},
   "source": [
    "Many of us love traveling, but fewer love delays (except for those iconoclasts out there who do – if that's you, power to you). Many of us have also given up on understanding _why_ delays happen, becuase they're effectively unpredictable in the practical realm. But what about _how_ delays happen?"
   ]
  },
  {
   "cell_type": "markdown",
   "metadata": {},
   "source": [
    "<img src=\"gifs/plane1.gif\" width=420px>"
   ]
  },
  {
   "cell_type": "markdown",
   "metadata": {},
   "source": [
    "This notebook is going to walk through a bunch of different angles on flight delays: airports, airlines, routes, legs, sleepy, dopey, bashful, sne...wait sorry, lost track. Let's just get started."
   ]
  },
  {
   "cell_type": "code",
   "execution_count": 1,
   "metadata": {},
   "outputs": [],
   "source": [
    "#Import 'dem packages tho\n",
    "import pandas as pd\n",
    "import numpy as np\n",
    "import matplotlib.pyplot as plt\n",
    "%matplotlib inline"
   ]
  },
  {
   "cell_type": "markdown",
   "metadata": {},
   "source": [
    "[Our data comes from the U.S. Department of Transportation](https://www.kaggle.com/usdot/flight-delays/version/1#flights.csv), with special thanks to Kaggle for procuring it. It covers more than **5 Million flights from 2015** across the year. This analysis assumes that whatever happened in 2015 is representative of, well, reality: or in other words, _what happens in 2015 doesn't stay in 2015_."
   ]
  },
  {
   "cell_type": "markdown",
   "metadata": {},
   "source": [
    "The data comes in three files: a flights CSV file (the bulk of our data), an airports CSV file (for names and locations), and an airlines CSV file (for full names)."
   ]
  },
  {
   "cell_type": "code",
   "execution_count": 2,
   "metadata": {},
   "outputs": [
    {
     "name": "stderr",
     "output_type": "stream",
     "text": [
      "/anaconda3/lib/python3.6/site-packages/IPython/core/interactiveshell.py:2785: DtypeWarning: Columns (7,8) have mixed types. Specify dtype option on import or set low_memory=False.\n",
      "  interactivity=interactivity, compiler=compiler, result=result)\n"
     ]
    }
   ],
   "source": [
    "#Read in flights data\n",
    "flights = pd.read_csv(\"flights.csv\")"
   ]
  },
  {
   "cell_type": "code",
   "execution_count": 3,
   "metadata": {},
   "outputs": [],
   "source": [
    "#Read in airports data\n",
    "airports = pd.read_csv(\"airports.csv\")\n",
    "\n",
    "#Read in airlines data\n",
    "airlines = pd.read_csv(\"airlines.csv\")"
   ]
  },
  {
   "cell_type": "markdown",
   "metadata": {},
   "source": [
    "For ordering purposes later, we'll need to convert the date format we were given (three separate columns for year, month, day) into a single date object."
   ]
  },
  {
   "cell_type": "code",
   "execution_count": 4,
   "metadata": {},
   "outputs": [],
   "source": [
    "#Convert date columns into single data\n",
    "flights[\"TIMESTAMP\"] = pd.to_datetime(flights[[\"YEAR\", \"MONTH\", \"DAY\"]])"
   ]
  },
  {
   "cell_type": "markdown",
   "metadata": {},
   "source": [
    "Here are the final columns and datatypes that we have to work with:"
   ]
  },
  {
   "cell_type": "code",
   "execution_count": 6,
   "metadata": {},
   "outputs": [
    {
     "data": {
      "text/plain": [
       "YEAR                            int64\n",
       "MONTH                           int64\n",
       "DAY                             int64\n",
       "DAY_OF_WEEK                     int64\n",
       "AIRLINE                        object\n",
       "FLIGHT_NUMBER                   int64\n",
       "TAIL_NUMBER                    object\n",
       "ORIGIN_AIRPORT                 object\n",
       "DESTINATION_AIRPORT            object\n",
       "SCHEDULED_DEPARTURE             int64\n",
       "DEPARTURE_TIME                float64\n",
       "DEPARTURE_DELAY               float64\n",
       "TAXI_OUT                      float64\n",
       "WHEELS_OFF                    float64\n",
       "SCHEDULED_TIME                float64\n",
       "ELAPSED_TIME                  float64\n",
       "AIR_TIME                      float64\n",
       "DISTANCE                        int64\n",
       "WHEELS_ON                     float64\n",
       "TAXI_IN                       float64\n",
       "SCHEDULED_ARRIVAL               int64\n",
       "ARRIVAL_TIME                  float64\n",
       "ARRIVAL_DELAY                 float64\n",
       "DIVERTED                        int64\n",
       "CANCELLED                       int64\n",
       "CANCELLATION_REASON            object\n",
       "AIR_SYSTEM_DELAY              float64\n",
       "SECURITY_DELAY                float64\n",
       "AIRLINE_DELAY                 float64\n",
       "LATE_AIRCRAFT_DELAY           float64\n",
       "WEATHER_DELAY                 float64\n",
       "TIMESTAMP              datetime64[ns]\n",
       "dtype: object"
      ]
     },
     "execution_count": 6,
     "metadata": {},
     "output_type": "execute_result"
    }
   ],
   "source": [
    "flights.dtypes"
   ]
  },
  {
   "cell_type": "markdown",
   "metadata": {},
   "source": [
    "Let's get started. Our first victim: airlines. Let us remind you before we begin: please keep your seat in the upright position, as well as ensure that your seatback tray is stowed. Flash photography is prohibited, but screenshots and social shares are encouraged."
   ]
  },
  {
   "cell_type": "markdown",
   "metadata": {},
   "source": [
    "### Delays by Airline"
   ]
  },
  {
   "cell_type": "markdown",
   "metadata": {},
   "source": [
    "TLDR; some airlines are more on-time than others. And, as you've no doubt experienced, some airlines care more than others."
   ]
  },
  {
   "cell_type": "markdown",
   "metadata": {},
   "source": [
    "<img src=\"gifs/plane3.gif\" width=420px>"
   ]
  },
  {
   "cell_type": "code",
   "execution_count": 7,
   "metadata": {},
   "outputs": [
    {
     "data": {
      "text/html": [
       "<div>\n",
       "<style scoped>\n",
       "    .dataframe tbody tr th:only-of-type {\n",
       "        vertical-align: middle;\n",
       "    }\n",
       "\n",
       "    .dataframe tbody tr th {\n",
       "        vertical-align: top;\n",
       "    }\n",
       "\n",
       "    .dataframe thead th {\n",
       "        text-align: right;\n",
       "    }\n",
       "</style>\n",
       "<table border=\"1\" class=\"dataframe\">\n",
       "  <thead>\n",
       "    <tr style=\"text-align: right;\">\n",
       "      <th></th>\n",
       "      <th>ARRIVAL_DELAY</th>\n",
       "    </tr>\n",
       "    <tr>\n",
       "      <th>AIRLINE</th>\n",
       "      <th></th>\n",
       "    </tr>\n",
       "  </thead>\n",
       "  <tbody>\n",
       "    <tr>\n",
       "      <th>Spirit Air Lines</th>\n",
       "      <td>14.471800</td>\n",
       "    </tr>\n",
       "    <tr>\n",
       "      <th>Frontier Airlines Inc.</th>\n",
       "      <td>12.504706</td>\n",
       "    </tr>\n",
       "    <tr>\n",
       "      <th>JetBlue Airways</th>\n",
       "      <td>6.677861</td>\n",
       "    </tr>\n",
       "    <tr>\n",
       "      <th>Atlantic Southeast Airlines</th>\n",
       "      <td>6.585379</td>\n",
       "    </tr>\n",
       "    <tr>\n",
       "      <th>American Eagle Airlines Inc.</th>\n",
       "      <td>6.457873</td>\n",
       "    </tr>\n",
       "    <tr>\n",
       "      <th>Skywest Airlines Inc.</th>\n",
       "      <td>5.845652</td>\n",
       "    </tr>\n",
       "    <tr>\n",
       "      <th>United Air Lines Inc.</th>\n",
       "      <td>5.431594</td>\n",
       "    </tr>\n",
       "    <tr>\n",
       "      <th>Virgin America</th>\n",
       "      <td>4.737706</td>\n",
       "    </tr>\n",
       "    <tr>\n",
       "      <th>Southwest Airlines Co.</th>\n",
       "      <td>4.374964</td>\n",
       "    </tr>\n",
       "    <tr>\n",
       "      <th>US Airways Inc.</th>\n",
       "      <td>3.706209</td>\n",
       "    </tr>\n",
       "    <tr>\n",
       "      <th>American Airlines Inc.</th>\n",
       "      <td>3.451372</td>\n",
       "    </tr>\n",
       "    <tr>\n",
       "      <th>Hawaiian Airlines Inc.</th>\n",
       "      <td>2.023093</td>\n",
       "    </tr>\n",
       "    <tr>\n",
       "      <th>Delta Air Lines Inc.</th>\n",
       "      <td>0.186754</td>\n",
       "    </tr>\n",
       "    <tr>\n",
       "      <th>Alaska Airlines Inc.</th>\n",
       "      <td>-0.976563</td>\n",
       "    </tr>\n",
       "  </tbody>\n",
       "</table>\n",
       "</div>"
      ],
      "text/plain": [
       "                              ARRIVAL_DELAY\n",
       "AIRLINE                                    \n",
       "Spirit Air Lines                  14.471800\n",
       "Frontier Airlines Inc.            12.504706\n",
       "JetBlue Airways                    6.677861\n",
       "Atlantic Southeast Airlines        6.585379\n",
       "American Eagle Airlines Inc.       6.457873\n",
       "Skywest Airlines Inc.              5.845652\n",
       "United Air Lines Inc.              5.431594\n",
       "Virgin America                     4.737706\n",
       "Southwest Airlines Co.             4.374964\n",
       "US Airways Inc.                    3.706209\n",
       "American Airlines Inc.             3.451372\n",
       "Hawaiian Airlines Inc.             2.023093\n",
       "Delta Air Lines Inc.               0.186754\n",
       "Alaska Airlines Inc.              -0.976563"
      ]
     },
     "execution_count": 7,
     "metadata": {},
     "output_type": "execute_result"
    }
   ],
   "source": [
    "#Group data by airline code and take the average arrival delay for each, then sort by delay\n",
    "delays_by_code = flights.groupby(\"AIRLINE\").agg({\"ARRIVAL_DELAY\": np.mean}).sort_values(\"ARRIVAL_DELAY\", ascending=False)\n",
    "\n",
    "#Join grouped data with airline dataframe to get airline name\n",
    "delays_by_airline = pd.merge(delays_by_code, airlines, left_index=True, right_on=\"IATA_CODE\")[[\"AIRLINE\",\"ARRIVAL_DELAY\"]]\n",
    "\n",
    "#Set index as airline and display results\n",
    "delays_by_airline.set_index(\"AIRLINE\")"
   ]
  },
  {
   "cell_type": "markdown",
   "metadata": {},
   "source": [
    "Average delay is one metric, but once you've crossed the \"delayed\" line, the extremity of said delay seems to bother people less (or maybe not, but I need some sort of narrative here). How do different airlines fare by _percentage of flights_ that get delayed?"
   ]
  },
  {
   "cell_type": "code",
   "execution_count": 8,
   "metadata": {},
   "outputs": [],
   "source": [
    "#Create new boolean column that represents if a flight was delayed on arrival or not\n",
    "flights[\"DELAYED_ON_ARRIVAL\"] = flights[\"ARRIVAL_DELAY\"] > 0"
   ]
  },
  {
   "cell_type": "code",
   "execution_count": 12,
   "metadata": {},
   "outputs": [
    {
     "data": {
      "text/html": [
       "<div>\n",
       "<style scoped>\n",
       "    .dataframe tbody tr th:only-of-type {\n",
       "        vertical-align: middle;\n",
       "    }\n",
       "\n",
       "    .dataframe tbody tr th {\n",
       "        vertical-align: top;\n",
       "    }\n",
       "\n",
       "    .dataframe thead th {\n",
       "        text-align: right;\n",
       "    }\n",
       "</style>\n",
       "<table border=\"1\" class=\"dataframe\">\n",
       "  <thead>\n",
       "    <tr style=\"text-align: right;\">\n",
       "      <th></th>\n",
       "      <th>DELAYED_ON_ARRIVAL</th>\n",
       "    </tr>\n",
       "    <tr>\n",
       "      <th>AIRLINE</th>\n",
       "      <th></th>\n",
       "    </tr>\n",
       "  </thead>\n",
       "  <tbody>\n",
       "    <tr>\n",
       "      <th>Spirit Air Lines</th>\n",
       "      <td>0.484644</td>\n",
       "    </tr>\n",
       "    <tr>\n",
       "      <th>Frontier Airlines Inc.</th>\n",
       "      <td>0.453917</td>\n",
       "    </tr>\n",
       "    <tr>\n",
       "      <th>Hawaiian Airlines Inc.</th>\n",
       "      <td>0.395676</td>\n",
       "    </tr>\n",
       "    <tr>\n",
       "      <th>Virgin America</th>\n",
       "      <td>0.390611</td>\n",
       "    </tr>\n",
       "    <tr>\n",
       "      <th>US Airways Inc.</th>\n",
       "      <td>0.383892</td>\n",
       "    </tr>\n",
       "    <tr>\n",
       "      <th>JetBlue Airways</th>\n",
       "      <td>0.381946</td>\n",
       "    </tr>\n",
       "    <tr>\n",
       "      <th>Skywest Airlines Inc.</th>\n",
       "      <td>0.378064</td>\n",
       "    </tr>\n",
       "    <tr>\n",
       "      <th>Southwest Airlines Co.</th>\n",
       "      <td>0.373075</td>\n",
       "    </tr>\n",
       "    <tr>\n",
       "      <th>Atlantic Southeast Airlines</th>\n",
       "      <td>0.372772</td>\n",
       "    </tr>\n",
       "    <tr>\n",
       "      <th>United Air Lines Inc.</th>\n",
       "      <td>0.361099</td>\n",
       "    </tr>\n",
       "    <tr>\n",
       "      <th>American Eagle Airlines Inc.</th>\n",
       "      <td>0.351303</td>\n",
       "    </tr>\n",
       "    <tr>\n",
       "      <th>American Airlines Inc.</th>\n",
       "      <td>0.347378</td>\n",
       "    </tr>\n",
       "    <tr>\n",
       "      <th>Alaska Airlines Inc.</th>\n",
       "      <td>0.330122</td>\n",
       "    </tr>\n",
       "    <tr>\n",
       "      <th>Delta Air Lines Inc.</th>\n",
       "      <td>0.286386</td>\n",
       "    </tr>\n",
       "  </tbody>\n",
       "</table>\n",
       "</div>"
      ],
      "text/plain": [
       "                              DELAYED_ON_ARRIVAL\n",
       "AIRLINE                                         \n",
       "Spirit Air Lines                        0.484644\n",
       "Frontier Airlines Inc.                  0.453917\n",
       "Hawaiian Airlines Inc.                  0.395676\n",
       "Virgin America                          0.390611\n",
       "US Airways Inc.                         0.383892\n",
       "JetBlue Airways                         0.381946\n",
       "Skywest Airlines Inc.                   0.378064\n",
       "Southwest Airlines Co.                  0.373075\n",
       "Atlantic Southeast Airlines             0.372772\n",
       "United Air Lines Inc.                   0.361099\n",
       "American Eagle Airlines Inc.            0.351303\n",
       "American Airlines Inc.                  0.347378\n",
       "Alaska Airlines Inc.                    0.330122\n",
       "Delta Air Lines Inc.                    0.286386"
      ]
     },
     "execution_count": 12,
     "metadata": {},
     "output_type": "execute_result"
    }
   ],
   "source": [
    "#Group data by airline code and take the mean of our new delayed column, and sort by percentage delayed\n",
    "delayed_by_code = flights.groupby(\"AIRLINE\").agg({\"DELAYED_ON_ARRIVAL\": np.mean}).sort_values(\"DELAYED_ON_ARRIVAL\", ascending=False)\n",
    "\n",
    "#Join on airlines dataframe to get full name\n",
    "delayed_by_airline = pd.merge(delayed_by_code, airlines, left_index=True, right_on=\"IATA_CODE\")[[\"AIRLINE\", \"DELAYED_ON_ARRIVAL\"]]\n",
    "\n",
    "#Set index on airline and display results\n",
    "delayed_by_airline.set_index(\"AIRLINE\")"
   ]
  },
  {
   "cell_type": "markdown",
   "metadata": {},
   "source": [
    "In a shocking set of results, Delta seems to be the _most_ on time airline in this dataset. They say part of being a Data Scientist is admitting when you're wrong, so my conclusion is... that this data must be falsified. \n",
    "\n",
    "But, of course, the final award here goes to Spirit Airlines, the operator that manages to let _HALF_ (HALF!) of their flights get delayed. There's an old adage in, well, every industry: you get what you pay for. "
   ]
  },
  {
   "cell_type": "markdown",
   "metadata": {},
   "source": [
    "### Delays by Airports"
   ]
  },
  {
   "cell_type": "markdown",
   "metadata": {},
   "source": [
    "TLDR; there are some truly awful airports in the delays department. Consider spending the time you'll have to kill entertaining other airport guests."
   ]
  },
  {
   "cell_type": "markdown",
   "metadata": {},
   "source": [
    "<img src=\"gifs/plane2.gif\" width=420px>"
   ]
  },
  {
   "cell_type": "markdown",
   "metadata": {},
   "source": [
    "Here are the slowest airports as origin locations: planes that take off from here tend to arrive conspicuously late."
   ]
  },
  {
   "cell_type": "code",
   "execution_count": 13,
   "metadata": {},
   "outputs": [
    {
     "data": {
      "text/html": [
       "<div>\n",
       "<style scoped>\n",
       "    .dataframe tbody tr th:only-of-type {\n",
       "        vertical-align: middle;\n",
       "    }\n",
       "\n",
       "    .dataframe tbody tr th {\n",
       "        vertical-align: top;\n",
       "    }\n",
       "\n",
       "    .dataframe thead th {\n",
       "        text-align: right;\n",
       "    }\n",
       "</style>\n",
       "<table border=\"1\" class=\"dataframe\">\n",
       "  <thead>\n",
       "    <tr style=\"text-align: right;\">\n",
       "      <th></th>\n",
       "      <th>ARRIVAL_DELAY</th>\n",
       "      <th>AIRPORT</th>\n",
       "      <th>STATE</th>\n",
       "    </tr>\n",
       "  </thead>\n",
       "  <tbody>\n",
       "    <tr>\n",
       "      <th>154</th>\n",
       "      <td>24.063158</td>\n",
       "      <td>Wilmington Airport</td>\n",
       "      <td>DE</td>\n",
       "    </tr>\n",
       "    <tr>\n",
       "      <th>133</th>\n",
       "      <td>21.763158</td>\n",
       "      <td>Gustavus Airport</td>\n",
       "      <td>AK</td>\n",
       "    </tr>\n",
       "    <tr>\n",
       "      <th>246</th>\n",
       "      <td>21.500000</td>\n",
       "      <td>Pago Pago International Airport (Tafuna Airport)</td>\n",
       "      <td>AS</td>\n",
       "    </tr>\n",
       "    <tr>\n",
       "      <th>293</th>\n",
       "      <td>19.558442</td>\n",
       "      <td>St. Cloud Regional Airport</td>\n",
       "      <td>MN</td>\n",
       "    </tr>\n",
       "    <tr>\n",
       "      <th>40</th>\n",
       "      <td>16.154696</td>\n",
       "      <td>Jack Brooks Regional Airport (Southeast Texas ...</td>\n",
       "      <td>TX</td>\n",
       "    </tr>\n",
       "    <tr>\n",
       "      <th>19</th>\n",
       "      <td>15.492492</td>\n",
       "      <td>Aspen-Pitkin County Airport</td>\n",
       "      <td>CO</td>\n",
       "    </tr>\n",
       "    <tr>\n",
       "      <th>231</th>\n",
       "      <td>14.333333</td>\n",
       "      <td>Southwest Oregon Regional Airport (North Bend ...</td>\n",
       "      <td>OR</td>\n",
       "    </tr>\n",
       "    <tr>\n",
       "      <th>219</th>\n",
       "      <td>12.980488</td>\n",
       "      <td>Martha's Vineyard Airport</td>\n",
       "      <td>MA</td>\n",
       "    </tr>\n",
       "    <tr>\n",
       "      <th>97</th>\n",
       "      <td>12.401503</td>\n",
       "      <td>Eagle County Regional Airport</td>\n",
       "      <td>CO</td>\n",
       "    </tr>\n",
       "    <tr>\n",
       "      <th>305</th>\n",
       "      <td>11.990256</td>\n",
       "      <td>Trenton Mercer Airport</td>\n",
       "      <td>NJ</td>\n",
       "    </tr>\n",
       "  </tbody>\n",
       "</table>\n",
       "</div>"
      ],
      "text/plain": [
       "     ARRIVAL_DELAY                                            AIRPORT STATE\n",
       "154      24.063158                                 Wilmington Airport    DE\n",
       "133      21.763158                                   Gustavus Airport    AK\n",
       "246      21.500000   Pago Pago International Airport (Tafuna Airport)    AS\n",
       "293      19.558442                         St. Cloud Regional Airport    MN\n",
       "40       16.154696  Jack Brooks Regional Airport (Southeast Texas ...    TX\n",
       "19       15.492492                        Aspen-Pitkin County Airport    CO\n",
       "231      14.333333  Southwest Oregon Regional Airport (North Bend ...    OR\n",
       "219      12.980488                          Martha's Vineyard Airport    MA\n",
       "97       12.401503                      Eagle County Regional Airport    CO\n",
       "305      11.990256                             Trenton Mercer Airport    NJ"
      ]
     },
     "execution_count": 13,
     "metadata": {},
     "output_type": "execute_result"
    }
   ],
   "source": [
    "#Group by origin airport and take average arrival delay, and sort by delay\n",
    "delays_by_origin_code = flights.groupby(\"ORIGIN_AIRPORT\").agg({\"ARRIVAL_DELAY\": np.mean}).sort_values(\"ARRIVAL_DELAY\", ascending=False)\n",
    "\n",
    "#Merge with airports dataframe to get full name and state\n",
    "delays_by_origin = pd.merge(delays_by_origin_code, airports, left_index=True, right_on=\"IATA_CODE\")[[\"ARRIVAL_DELAY\", \"AIRPORT\", \"STATE\"]]\n",
    "\n",
    "#Display top 10 results\n",
    "delays_by_origin.head(10)"
   ]
  },
  {
   "cell_type": "markdown",
   "metadata": {},
   "source": [
    "Wilmington, Delaware is the most delayed airport to leave from (on average). Probably because all of the businesses in the U.S. are based there, so everyone is traveling in and out."
   ]
  },
  {
   "cell_type": "markdown",
   "metadata": {},
   "source": [
    "<img src=\"gifs/humor.gif\" width=420px>"
   ]
  },
  {
   "cell_type": "markdown",
   "metadata": {},
   "source": [
    "Sorry, I'll stop making jokes. For a bit."
   ]
  },
  {
   "cell_type": "markdown",
   "metadata": {},
   "source": [
    "Here are delays organized by destination airport: if you're flying into these airports, you might be late."
   ]
  },
  {
   "cell_type": "code",
   "execution_count": 14,
   "metadata": {},
   "outputs": [
    {
     "data": {
      "text/html": [
       "<div>\n",
       "<style scoped>\n",
       "    .dataframe tbody tr th:only-of-type {\n",
       "        vertical-align: middle;\n",
       "    }\n",
       "\n",
       "    .dataframe tbody tr th {\n",
       "        vertical-align: top;\n",
       "    }\n",
       "\n",
       "    .dataframe thead th {\n",
       "        text-align: right;\n",
       "    }\n",
       "</style>\n",
       "<table border=\"1\" class=\"dataframe\">\n",
       "  <thead>\n",
       "    <tr style=\"text-align: right;\">\n",
       "      <th></th>\n",
       "      <th>ARRIVAL_DELAY</th>\n",
       "      <th>AIRPORT</th>\n",
       "      <th>STATE</th>\n",
       "    </tr>\n",
       "  </thead>\n",
       "  <tbody>\n",
       "    <tr>\n",
       "      <th>293</th>\n",
       "      <td>23.025974</td>\n",
       "      <td>St. Cloud Regional Airport</td>\n",
       "      <td>MN</td>\n",
       "    </tr>\n",
       "    <tr>\n",
       "      <th>154</th>\n",
       "      <td>21.989474</td>\n",
       "      <td>Wilmington Airport</td>\n",
       "      <td>DE</td>\n",
       "    </tr>\n",
       "    <tr>\n",
       "      <th>305</th>\n",
       "      <td>17.433901</td>\n",
       "      <td>Trenton Mercer Airport</td>\n",
       "      <td>NJ</td>\n",
       "    </tr>\n",
       "    <tr>\n",
       "      <th>137</th>\n",
       "      <td>17.320242</td>\n",
       "      <td>Guam International Airport</td>\n",
       "      <td>GU</td>\n",
       "    </tr>\n",
       "    <tr>\n",
       "      <th>231</th>\n",
       "      <td>16.740602</td>\n",
       "      <td>Southwest Oregon Regional Airport (North Bend ...</td>\n",
       "      <td>OR</td>\n",
       "    </tr>\n",
       "    <tr>\n",
       "      <th>212</th>\n",
       "      <td>16.152027</td>\n",
       "      <td>Sawyer International Airport</td>\n",
       "      <td>MI</td>\n",
       "    </tr>\n",
       "    <tr>\n",
       "      <th>19</th>\n",
       "      <td>15.829448</td>\n",
       "      <td>Aspen-Pitkin County Airport</td>\n",
       "      <td>CO</td>\n",
       "    </tr>\n",
       "    <tr>\n",
       "      <th>234</th>\n",
       "      <td>15.288256</td>\n",
       "      <td>Plattsburgh International Airport</td>\n",
       "      <td>NY</td>\n",
       "    </tr>\n",
       "    <tr>\n",
       "      <th>40</th>\n",
       "      <td>14.631694</td>\n",
       "      <td>Jack Brooks Regional Airport (Southeast Texas ...</td>\n",
       "      <td>TX</td>\n",
       "    </tr>\n",
       "    <tr>\n",
       "      <th>42</th>\n",
       "      <td>12.192771</td>\n",
       "      <td>Rafael Hernández Airport</td>\n",
       "      <td>PR</td>\n",
       "    </tr>\n",
       "  </tbody>\n",
       "</table>\n",
       "</div>"
      ],
      "text/plain": [
       "     ARRIVAL_DELAY                                            AIRPORT STATE\n",
       "293      23.025974                         St. Cloud Regional Airport    MN\n",
       "154      21.989474                                 Wilmington Airport    DE\n",
       "305      17.433901                             Trenton Mercer Airport    NJ\n",
       "137      17.320242                         Guam International Airport    GU\n",
       "231      16.740602  Southwest Oregon Regional Airport (North Bend ...    OR\n",
       "212      16.152027                       Sawyer International Airport    MI\n",
       "19       15.829448                        Aspen-Pitkin County Airport    CO\n",
       "234      15.288256                  Plattsburgh International Airport    NY\n",
       "40       14.631694  Jack Brooks Regional Airport (Southeast Texas ...    TX\n",
       "42       12.192771                           Rafael Hernández Airport    PR"
      ]
     },
     "execution_count": 14,
     "metadata": {},
     "output_type": "execute_result"
    }
   ],
   "source": [
    "#Group by destination airport and take average arrival delay, and sort by delay\n",
    "delays_by_destination_code = flights.groupby(\"DESTINATION_AIRPORT\").agg({\"ARRIVAL_DELAY\": np.mean}).sort_values(\"ARRIVAL_DELAY\", ascending=False)\n",
    "\n",
    "#Merge with airports dataframe to get full name and state\n",
    "delays_by_destination = pd.merge(delays_by_destination_code, airports, left_index=True, right_on=\"IATA_CODE\")[[\"ARRIVAL_DELAY\", \"AIRPORT\", \"STATE\"]]\n",
    "\n",
    "#Display top 10 results\n",
    "delays_by_destination.head(10)"
   ]
  },
  {
   "cell_type": "markdown",
   "metadata": {},
   "source": [
    "Just don't fly in or out of Wilmington. That seems to be the lesson here."
   ]
  },
  {
   "cell_type": "markdown",
   "metadata": {},
   "source": [
    "### Delays by Day of Week"
   ]
  },
  {
   "cell_type": "markdown",
   "metadata": {},
   "source": [
    "<img src=\"gifs/office.gif\" width=420px>"
   ]
  },
  {
   "cell_type": "markdown",
   "metadata": {},
   "source": [
    "TLDR; You wouldn't think this is logical off the bat, but turns out there's a lot of variation in arrival delays by day of the week."
   ]
  },
  {
   "cell_type": "code",
   "execution_count": 40,
   "metadata": {},
   "outputs": [
    {
     "data": {
      "text/html": [
       "<div>\n",
       "<style scoped>\n",
       "    .dataframe tbody tr th:only-of-type {\n",
       "        vertical-align: middle;\n",
       "    }\n",
       "\n",
       "    .dataframe tbody tr th {\n",
       "        vertical-align: top;\n",
       "    }\n",
       "\n",
       "    .dataframe thead th {\n",
       "        text-align: right;\n",
       "    }\n",
       "</style>\n",
       "<table border=\"1\" class=\"dataframe\">\n",
       "  <thead>\n",
       "    <tr style=\"text-align: right;\">\n",
       "      <th></th>\n",
       "      <th>ARRIVAL_DELAY</th>\n",
       "      <th>DELAYED_ON_ARRIVAL</th>\n",
       "    </tr>\n",
       "    <tr>\n",
       "      <th>DAY_OF_WEEK</th>\n",
       "      <th></th>\n",
       "      <th></th>\n",
       "    </tr>\n",
       "  </thead>\n",
       "  <tbody>\n",
       "    <tr>\n",
       "      <th>1</th>\n",
       "      <td>6.002063</td>\n",
       "      <td>0.363908</td>\n",
       "    </tr>\n",
       "    <tr>\n",
       "      <th>4</th>\n",
       "      <td>5.668334</td>\n",
       "      <td>0.384587</td>\n",
       "    </tr>\n",
       "    <tr>\n",
       "      <th>5</th>\n",
       "      <td>4.764079</td>\n",
       "      <td>0.378585</td>\n",
       "    </tr>\n",
       "    <tr>\n",
       "      <th>2</th>\n",
       "      <td>4.246041</td>\n",
       "      <td>0.349480</td>\n",
       "    </tr>\n",
       "    <tr>\n",
       "      <th>7</th>\n",
       "      <td>3.958293</td>\n",
       "      <td>0.349492</td>\n",
       "    </tr>\n",
       "    <tr>\n",
       "      <th>3</th>\n",
       "      <td>3.845468</td>\n",
       "      <td>0.355521</td>\n",
       "    </tr>\n",
       "    <tr>\n",
       "      <th>6</th>\n",
       "      <td>1.852892</td>\n",
       "      <td>0.320717</td>\n",
       "    </tr>\n",
       "  </tbody>\n",
       "</table>\n",
       "</div>"
      ],
      "text/plain": [
       "             ARRIVAL_DELAY  DELAYED_ON_ARRIVAL\n",
       "DAY_OF_WEEK                                   \n",
       "1                 6.002063            0.363908\n",
       "4                 5.668334            0.384587\n",
       "5                 4.764079            0.378585\n",
       "2                 4.246041            0.349480\n",
       "7                 3.958293            0.349492\n",
       "3                 3.845468            0.355521\n",
       "6                 1.852892            0.320717"
      ]
     },
     "execution_count": 40,
     "metadata": {},
     "output_type": "execute_result"
    }
   ],
   "source": [
    "#Group by day of week, take average arrival delay, and sort by arrival delay\n",
    "delays_by_dow = flights.groupby(\"DAY_OF_WEEK\").agg({\"ARRIVAL_DELAY\": np.mean, \"DELAYED_ON_ARRIVAL\": np.mean}).sort_values(\"ARRIVAL_DELAY\", ascending=False)\n",
    "\n",
    "#Display results\n",
    "delays_by_dow"
   ]
  },
  {
   "cell_type": "markdown",
   "metadata": {},
   "source": [
    "There doesn't seem to be any particular rhyme or reason to it, but there is some variation: for example, flights on Wednesday are 20% more likely to be delayed than flights on Saturday. Flights are delayed the most (on average) on Sunday."
   ]
  },
  {
   "cell_type": "markdown",
   "metadata": {},
   "source": [
    "### Delays by Distance"
   ]
  },
  {
   "cell_type": "markdown",
   "metadata": {},
   "source": [
    "TLDR; distance has no correlation with arrival delays."
   ]
  },
  {
   "cell_type": "markdown",
   "metadata": {},
   "source": [
    "<img src=\"gifs/dog.gif\" width=420px>"
   ]
  },
  {
   "cell_type": "markdown",
   "metadata": {},
   "source": [
    "Do flights that span longer get delayed more often? They'll generally require more prep and turnover time, which can compound delays. Let's start with a plot and then investigate correlations."
   ]
  },
  {
   "cell_type": "code",
   "execution_count": 18,
   "metadata": {},
   "outputs": [
    {
     "data": {
      "text/plain": [
       "<matplotlib.collections.PathCollection at 0x118abee48>"
      ]
     },
     "execution_count": 18,
     "metadata": {},
     "output_type": "execute_result"
    },
    {
     "data": {
      "image/png": "[encoded data removed]",
      "text/plain": [
       "<Figure size 432x288 with 1 Axes>"
      ]
     },
     "metadata": {},
     "output_type": "display_data"
    }
   ],
   "source": [
    "plt.scatter(flights[\"DISTANCE\"], flights[\"ARRIVAL_DELAY\"], color=\"red\")"
   ]
  },
  {
   "cell_type": "markdown",
   "metadata": {},
   "source": [
    "Too many points to interpret. Are the two correlated though?"
   ]
  },
  {
   "cell_type": "code",
   "execution_count": 36,
   "metadata": {},
   "outputs": [
    {
     "data": {
      "text/html": [
       "<div>\n",
       "<style scoped>\n",
       "    .dataframe tbody tr th:only-of-type {\n",
       "        vertical-align: middle;\n",
       "    }\n",
       "\n",
       "    .dataframe tbody tr th {\n",
       "        vertical-align: top;\n",
       "    }\n",
       "\n",
       "    .dataframe thead th {\n",
       "        text-align: right;\n",
       "    }\n",
       "</style>\n",
       "<table border=\"1\" class=\"dataframe\">\n",
       "  <thead>\n",
       "    <tr style=\"text-align: right;\">\n",
       "      <th></th>\n",
       "      <th>DISTANCE</th>\n",
       "      <th>ARRIVAL_DELAY</th>\n",
       "    </tr>\n",
       "  </thead>\n",
       "  <tbody>\n",
       "    <tr>\n",
       "      <th>DISTANCE</th>\n",
       "      <td>1.000000</td>\n",
       "      <td>-0.025444</td>\n",
       "    </tr>\n",
       "    <tr>\n",
       "      <th>ARRIVAL_DELAY</th>\n",
       "      <td>-0.025444</td>\n",
       "      <td>1.000000</td>\n",
       "    </tr>\n",
       "  </tbody>\n",
       "</table>\n",
       "</div>"
      ],
      "text/plain": [
       "               DISTANCE  ARRIVAL_DELAY\n",
       "DISTANCE       1.000000      -0.025444\n",
       "ARRIVAL_DELAY -0.025444       1.000000"
      ]
     },
     "execution_count": 36,
     "metadata": {},
     "output_type": "execute_result"
    }
   ],
   "source": [
    "flights[[\"DISTANCE\", \"ARRIVAL_DELAY\"]].corr()"
   ]
  },
  {
   "cell_type": "markdown",
   "metadata": {},
   "source": [
    "Nope, turns out they're not. I have two theories for why:\n",
    "\n",
    "* Airtime delays rarely impact arrival delays\n",
    "* Longer flights mean fewer legs, which means more leeway for errors in between legs\n",
    "\n",
    "We'll cover both of these more in depth below."
   ]
  },
  {
   "cell_type": "markdown",
   "metadata": {},
   "source": [
    "### Delays by Type"
   ]
  },
  {
   "cell_type": "markdown",
   "metadata": {},
   "source": [
    "TLDR; departure delays don't correlate perfectly with arrival delays, and airtime delays don't correlate with either."
   ]
  },
  {
   "cell_type": "markdown",
   "metadata": {},
   "source": [
    "<img src=\"gifs/landing.gif\" width=420px>"
   ]
  },
  {
   "cell_type": "markdown",
   "metadata": {},
   "source": [
    "The core truth about _how_ plane delays happen is that there are multiple failure points: taxi time, taking off late, flying for too long, arriving late, you name it. Our dataset is fairly limited in scope, and [most reports hailing the taxi as the culprit focus on growth and ignore absolute impact](https://www.nbcnews.com/business/travel/real-reason-flying-takes-longer-airport-taxi-times-keep-growing-n468121). "
   ]
  },
  {
   "cell_type": "markdown",
   "metadata": {},
   "source": [
    "We'll do a fairly simple analysis and see if certain delays correlate with others."
   ]
  },
  {
   "cell_type": "code",
   "execution_count": 19,
   "metadata": {},
   "outputs": [],
   "source": [
    "#Create a new column for airtime delay\n",
    "flights[\"AIRTIME_DELAY\"] = flights[\"SCHEDULED_TIME\"] - flights[\"ELAPSED_TIME\"]"
   ]
  },
  {
   "cell_type": "code",
   "execution_count": 20,
   "metadata": {},
   "outputs": [
    {
     "data": {
      "text/html": [
       "<div>\n",
       "<style scoped>\n",
       "    .dataframe tbody tr th:only-of-type {\n",
       "        vertical-align: middle;\n",
       "    }\n",
       "\n",
       "    .dataframe tbody tr th {\n",
       "        vertical-align: top;\n",
       "    }\n",
       "\n",
       "    .dataframe thead th {\n",
       "        text-align: right;\n",
       "    }\n",
       "</style>\n",
       "<table border=\"1\" class=\"dataframe\">\n",
       "  <thead>\n",
       "    <tr style=\"text-align: right;\">\n",
       "      <th></th>\n",
       "      <th>DEPARTURE_DELAY</th>\n",
       "      <th>AIRTIME_DELAY</th>\n",
       "      <th>ARRIVAL_DELAY</th>\n",
       "    </tr>\n",
       "  </thead>\n",
       "  <tbody>\n",
       "    <tr>\n",
       "      <th>DEPARTURE_DELAY</th>\n",
       "      <td>1.000000</td>\n",
       "      <td>-0.016203</td>\n",
       "      <td>0.944672</td>\n",
       "    </tr>\n",
       "    <tr>\n",
       "      <th>AIRTIME_DELAY</th>\n",
       "      <td>-0.016203</td>\n",
       "      <td>1.000000</td>\n",
       "      <td>-0.343282</td>\n",
       "    </tr>\n",
       "    <tr>\n",
       "      <th>ARRIVAL_DELAY</th>\n",
       "      <td>0.944672</td>\n",
       "      <td>-0.343282</td>\n",
       "      <td>1.000000</td>\n",
       "    </tr>\n",
       "  </tbody>\n",
       "</table>\n",
       "</div>"
      ],
      "text/plain": [
       "                 DEPARTURE_DELAY  AIRTIME_DELAY  ARRIVAL_DELAY\n",
       "DEPARTURE_DELAY         1.000000      -0.016203       0.944672\n",
       "AIRTIME_DELAY          -0.016203       1.000000      -0.343282\n",
       "ARRIVAL_DELAY           0.944672      -0.343282       1.000000"
      ]
     },
     "execution_count": 20,
     "metadata": {},
     "output_type": "execute_result"
    }
   ],
   "source": [
    "#Display correlations for the 3 types of available delays in our data\n",
    "flights[[\"DEPARTURE_DELAY\", \"AIRTIME_DELAY\", \"ARRIVAL_DELAY\"]].corr()"
   ]
  },
  {
   "cell_type": "markdown",
   "metadata": {},
   "source": [
    "Looks like there's a high correlation between ARRIVAL_DELAY and DEPARTURE_DELAY, which isn't surprising: but it is interesting to note that the correlation isn't perfect, which means that departure delays don't _always_ lead to arrival delays. That's because flight times are flexible, and the airline will often shorten the flight time by 20-30 minutes to make up for departure delays."
   ]
  },
  {
   "cell_type": "markdown",
   "metadata": {},
   "source": [
    "It's also worth noting that there's no correlation between delays in AIR_TIME and ARRIVAL_DELAY – which means that you probably can't attribute arriving late to too much time in the sky. Or in the words of Mr. Meeseegs: "
   ]
  },
  {
   "cell_type": "markdown",
   "metadata": {},
   "source": [
    "<img src=\"gifs/meeseegs.gif\" width=\"400px\">"
   ]
  },
  {
   "cell_type": "markdown",
   "metadata": {},
   "source": [
    "### Delays by route"
   ]
  },
  {
   "cell_type": "markdown",
   "metadata": {},
   "source": [
    "<img src=\"gifs/route.gif\" width=\"400px\">"
   ]
  },
  {
   "cell_type": "markdown",
   "metadata": {},
   "source": [
    "For those frequent travelers among us, you already know that delays can be highly route dependent. We'll move some data around to create routes, and see which are delayed the heaviest."
   ]
  },
  {
   "cell_type": "code",
   "execution_count": 24,
   "metadata": {},
   "outputs": [],
   "source": [
    "#Function to convert integer values in origin airport\n",
    "def convertAirport(airport):\n",
    "    if type(airport) == int:\n",
    "        return \"N/A\"\n",
    "    else:\n",
    "        return airport"
   ]
  },
  {
   "cell_type": "code",
   "execution_count": 25,
   "metadata": {},
   "outputs": [],
   "source": [
    "#Apply integer conversion to origin and destination airports\n",
    "flights[\"ORIGIN_AIRPORT\"] = flights[\"ORIGIN_AIRPORT\"].apply(lambda x: convertAirport(x))\n",
    "flights[\"DESTINATION_AIRPORT\"] = flights[\"DESTINATION_AIRPORT\"].apply(lambda x: convertAirport(x))"
   ]
  },
  {
   "cell_type": "code",
   "execution_count": 26,
   "metadata": {},
   "outputs": [],
   "source": [
    "#Create new routes column\n",
    "flights[\"ROUTE\"] = flights[\"ORIGIN_AIRPORT\"] + \"_\" + flights[\"DESTINATION_AIRPORT\"]"
   ]
  },
  {
   "cell_type": "code",
   "execution_count": 30,
   "metadata": {},
   "outputs": [],
   "source": [
    "#Group by route and take average delay as well as number of flights, and sort by average delay\n",
    "delays_by_route_raw = flights.groupby(\"ROUTE\").agg({\"ARRIVAL_DELAY\": np.mean, \"DELAYED_ON_ARRIVAL\": np.mean, \"FLIGHT_NUMBER\": np.size}).sort_values(\"ARRIVAL_DELAY\", ascending=False).reset_index()\n",
    "\n",
    "#Filter for routes that have more than 100 flights in the dataset, and remove N/A data as defined above\n",
    "delays_by_route = delays_by_route_raw[(delays_by_route_raw[\"FLIGHT_NUMBER\"] > 100) & (delays_by_route_raw[\"ROUTE\"] != \"N/A_N/A\")]\n",
    "\n",
    "#Rename columns for readability\n",
    "delays_by_route.columns = [\"ROUTE\", \"AVG_DELAY\", \"PCT_DELAYED\", \"COUNT\"]"
   ]
  },
  {
   "cell_type": "code",
   "execution_count": 31,
   "metadata": {},
   "outputs": [
    {
     "data": {
      "text/html": [
       "<div>\n",
       "<style scoped>\n",
       "    .dataframe tbody tr th:only-of-type {\n",
       "        vertical-align: middle;\n",
       "    }\n",
       "\n",
       "    .dataframe tbody tr th {\n",
       "        vertical-align: top;\n",
       "    }\n",
       "\n",
       "    .dataframe thead th {\n",
       "        text-align: right;\n",
       "    }\n",
       "</style>\n",
       "<table border=\"1\" class=\"dataframe\">\n",
       "  <thead>\n",
       "    <tr style=\"text-align: right;\">\n",
       "      <th></th>\n",
       "      <th>ROUTE</th>\n",
       "      <th>AVG_DELAY</th>\n",
       "      <th>PCT_DELAYED</th>\n",
       "      <th>COUNT</th>\n",
       "    </tr>\n",
       "  </thead>\n",
       "  <tbody>\n",
       "    <tr>\n",
       "      <th>279</th>\n",
       "      <td>ASE_DFW</td>\n",
       "      <td>39.965649</td>\n",
       "      <td>0.483582</td>\n",
       "      <td>335</td>\n",
       "    </tr>\n",
       "    <tr>\n",
       "      <th>303</th>\n",
       "      <td>JFK_EGE</td>\n",
       "      <td>38.009524</td>\n",
       "      <td>0.427273</td>\n",
       "      <td>110</td>\n",
       "    </tr>\n",
       "    <tr>\n",
       "      <th>353</th>\n",
       "      <td>OAK_IAH</td>\n",
       "      <td>34.028736</td>\n",
       "      <td>0.692737</td>\n",
       "      <td>179</td>\n",
       "    </tr>\n",
       "    <tr>\n",
       "      <th>407</th>\n",
       "      <td>ACY_DTW</td>\n",
       "      <td>30.896552</td>\n",
       "      <td>0.551020</td>\n",
       "      <td>147</td>\n",
       "    </tr>\n",
       "    <tr>\n",
       "      <th>417</th>\n",
       "      <td>MSP_TTN</td>\n",
       "      <td>30.225166</td>\n",
       "      <td>0.687898</td>\n",
       "      <td>157</td>\n",
       "    </tr>\n",
       "    <tr>\n",
       "      <th>418</th>\n",
       "      <td>SRQ_LGA</td>\n",
       "      <td>30.169048</td>\n",
       "      <td>0.542725</td>\n",
       "      <td>433</td>\n",
       "    </tr>\n",
       "    <tr>\n",
       "      <th>426</th>\n",
       "      <td>CRW_DFW</td>\n",
       "      <td>29.615942</td>\n",
       "      <td>0.616438</td>\n",
       "      <td>146</td>\n",
       "    </tr>\n",
       "    <tr>\n",
       "      <th>428</th>\n",
       "      <td>ACY_BOS</td>\n",
       "      <td>29.422222</td>\n",
       "      <td>0.642857</td>\n",
       "      <td>182</td>\n",
       "    </tr>\n",
       "    <tr>\n",
       "      <th>446</th>\n",
       "      <td>EGE_ORD</td>\n",
       "      <td>28.931373</td>\n",
       "      <td>0.394495</td>\n",
       "      <td>109</td>\n",
       "    </tr>\n",
       "    <tr>\n",
       "      <th>447</th>\n",
       "      <td>DFW_OGG</td>\n",
       "      <td>28.856566</td>\n",
       "      <td>0.646825</td>\n",
       "      <td>504</td>\n",
       "    </tr>\n",
       "  </tbody>\n",
       "</table>\n",
       "</div>"
      ],
      "text/plain": [
       "       ROUTE  AVG_DELAY  PCT_DELAYED  COUNT\n",
       "279  ASE_DFW  39.965649     0.483582    335\n",
       "303  JFK_EGE  38.009524     0.427273    110\n",
       "353  OAK_IAH  34.028736     0.692737    179\n",
       "407  ACY_DTW  30.896552     0.551020    147\n",
       "417  MSP_TTN  30.225166     0.687898    157\n",
       "418  SRQ_LGA  30.169048     0.542725    433\n",
       "426  CRW_DFW  29.615942     0.616438    146\n",
       "428  ACY_BOS  29.422222     0.642857    182\n",
       "446  EGE_ORD  28.931373     0.394495    109\n",
       "447  DFW_OGG  28.856566     0.646825    504"
      ]
     },
     "execution_count": 31,
     "metadata": {},
     "output_type": "execute_result"
    }
   ],
   "source": [
    "#Sort and display results\n",
    "delays_by_route.sort_values(\"AVG_DELAY\", ascending=False).head(10)"
   ]
  },
  {
   "cell_type": "markdown",
   "metadata": {},
   "source": [
    "Here's something interesting: DFW (Dallas Fort Worth) appears in 4 of the most delayed (on average) routes, despite not being in the top 10 most delayed airports (origin or destination) itself.  "
   ]
  },
  {
   "cell_type": "markdown",
   "metadata": {},
   "source": [
    "### Delays by Leg"
   ]
  },
  {
   "cell_type": "markdown",
   "metadata": {},
   "source": [
    "<img src=\"gifs/leg.jpg\" width=\"400px\">"
   ]
  },
  {
   "cell_type": "markdown",
   "metadata": {},
   "source": [
    "Planes travel on legs: one flight will travel pretty much nonstop to a few different cities every day, and then do the same thing the next day. Do legs flown later in the day tend to be more delayed, as delays pile up?"
   ]
  },
  {
   "cell_type": "code",
   "execution_count": 33,
   "metadata": {},
   "outputs": [],
   "source": [
    "#Sort flights by TAIL_NUMBER and TIMESTAMP\n",
    "flights_sorted = flights.sort_values([\"TAIL_NUMBER\", \"TIMESTAMP\"])"
   ]
  },
  {
   "cell_type": "code",
   "execution_count": 34,
   "metadata": {},
   "outputs": [],
   "source": [
    "#Create new column that represents the difference between a row's day and the previous row's day\n",
    "flights_sorted[\"DAY_DIFF\"] = flights_sorted[\"DAY\"].diff()\n",
    "\n",
    "#Create new column that represents the difference between a row's TAIL_NUMBER and the previous row's TAIL_NUMBER\n",
    "flights_sorted[\"TAIL_DIFF\"] = flights_sorted[\"TAIL_NUMBER\"].ne(flights_sorted[\"TAIL_NUMBER\"].shift()).astype(int)"
   ]
  },
  {
   "cell_type": "code",
   "execution_count": 35,
   "metadata": {},
   "outputs": [],
   "source": [
    "#Define a function to calculate a given row's leg linearly\n",
    "def calculateLeg(row):\n",
    "    \n",
    "    #Persist state of leg_counter outside of function\n",
    "    global leg_counter\n",
    "    \n",
    "    #If the day and flight are the same as last:\n",
    "    if ((row[\"DAY_DIFF\"] == 0) & (row[\"TAIL_DIFF\"] == 0)):\n",
    "        leg_counter +=1\n",
    "        return int(leg_counter)\n",
    "        \n",
    "    #If either the day or flight are different, reset the leg_counter    \n",
    "    else:\n",
    "        leg_counter = 1\n",
    "        return int(leg_counter)"
   ]
  },
  {
   "cell_type": "code",
   "execution_count": 37,
   "metadata": {},
   "outputs": [
    {
     "name": "stdout",
     "output_type": "stream",
     "text": [
      "CPU times: user 2min 19s, sys: 10.6 s, total: 2min 30s\n",
      "Wall time: 2min 33s\n"
     ]
    }
   ],
   "source": [
    "%%time\n",
    "#\"You can't measure what you can't improve\" – Grove Andy\n",
    "\n",
    "#Set leg_counter at 1\n",
    "leg_counter = 1\n",
    "\n",
    "#Apply our calculate leg function to create a new LEG column\n",
    "flights_sorted[\"LEG\"] = flights_sorted.apply(lambda x: calculateLeg(x), axis=1)"
   ]
  },
  {
   "cell_type": "code",
   "execution_count": 39,
   "metadata": {},
   "outputs": [
    {
     "data": {
      "text/html": [
       "<div>\n",
       "<style scoped>\n",
       "    .dataframe tbody tr th:only-of-type {\n",
       "        vertical-align: middle;\n",
       "    }\n",
       "\n",
       "    .dataframe tbody tr th {\n",
       "        vertical-align: top;\n",
       "    }\n",
       "\n",
       "    .dataframe thead th {\n",
       "        text-align: right;\n",
       "    }\n",
       "</style>\n",
       "<table border=\"1\" class=\"dataframe\">\n",
       "  <thead>\n",
       "    <tr style=\"text-align: right;\">\n",
       "      <th></th>\n",
       "      <th>ARRIVAL_DELAY</th>\n",
       "      <th>DELAYED_ON_ARRIVAL</th>\n",
       "    </tr>\n",
       "    <tr>\n",
       "      <th>LEG</th>\n",
       "      <th></th>\n",
       "      <th></th>\n",
       "    </tr>\n",
       "  </thead>\n",
       "  <tbody>\n",
       "    <tr>\n",
       "      <th>1</th>\n",
       "      <td>-0.231296</td>\n",
       "      <td>0.283436</td>\n",
       "    </tr>\n",
       "    <tr>\n",
       "      <th>2</th>\n",
       "      <td>2.442736</td>\n",
       "      <td>0.337547</td>\n",
       "    </tr>\n",
       "    <tr>\n",
       "      <th>3</th>\n",
       "      <td>4.471537</td>\n",
       "      <td>0.362935</td>\n",
       "    </tr>\n",
       "    <tr>\n",
       "      <th>4</th>\n",
       "      <td>6.860264</td>\n",
       "      <td>0.399990</td>\n",
       "    </tr>\n",
       "    <tr>\n",
       "      <th>5</th>\n",
       "      <td>8.891809</td>\n",
       "      <td>0.420608</td>\n",
       "    </tr>\n",
       "    <tr>\n",
       "      <th>6</th>\n",
       "      <td>9.915047</td>\n",
       "      <td>0.432314</td>\n",
       "    </tr>\n",
       "    <tr>\n",
       "      <th>7</th>\n",
       "      <td>12.654264</td>\n",
       "      <td>0.463797</td>\n",
       "    </tr>\n",
       "    <tr>\n",
       "      <th>8</th>\n",
       "      <td>11.252219</td>\n",
       "      <td>0.440556</td>\n",
       "    </tr>\n",
       "    <tr>\n",
       "      <th>9</th>\n",
       "      <td>14.263179</td>\n",
       "      <td>0.491407</td>\n",
       "    </tr>\n",
       "    <tr>\n",
       "      <th>10</th>\n",
       "      <td>9.678098</td>\n",
       "      <td>0.447871</td>\n",
       "    </tr>\n",
       "  </tbody>\n",
       "</table>\n",
       "</div>"
      ],
      "text/plain": [
       "     ARRIVAL_DELAY  DELAYED_ON_ARRIVAL\n",
       "LEG                                   \n",
       "1        -0.231296            0.283436\n",
       "2         2.442736            0.337547\n",
       "3         4.471537            0.362935\n",
       "4         6.860264            0.399990\n",
       "5         8.891809            0.420608\n",
       "6         9.915047            0.432314\n",
       "7        12.654264            0.463797\n",
       "8        11.252219            0.440556\n",
       "9        14.263179            0.491407\n",
       "10        9.678098            0.447871"
      ]
     },
     "execution_count": 39,
     "metadata": {},
     "output_type": "execute_result"
    }
   ],
   "source": [
    "#Group by LEG, and take average arrival delay and pct delayed, and sort by LEG\n",
    "legs = flights_sorted.groupby(\"LEG\").agg({\"ARRIVAL_DELAY\": np.mean, \"DELAYED_ON_ARRIVAL\": np.mean}).sort_values(\"LEG\")[:10]\n",
    "legs"
   ]
  },
  {
   "cell_type": "markdown",
   "metadata": {},
   "source": [
    "The relationship is uncanny. The average delays and percentage of flights delayed increase almost perfectly linearly with the number leg than an aircraft is on during a given day. Planes rarely fly more than 9 legs a day, so we're ignoring anomalies and data issues here."
   ]
  },
  {
   "cell_type": "markdown",
   "metadata": {},
   "source": [
    "<img src=\"gifs/finished.gif\" width=\"400px\">"
   ]
  },
  {
   "cell_type": "markdown",
   "metadata": {},
   "source": [
    "I hope you enjoyed this flight through this cool dataset, and have a better understanding of how delays actually happen. If you liked this, feel free to share it in whatever way you so choose. For feedback, hit me up on [Twitter](https://twitter.com/jGage718)."
   ]
  }
 ],
 "metadata": {
  "kernelspec": {
   "display_name": "Python 3",
   "language": "python",
   "name": "python3"
  },
  "language_info": {
   "codemirror_mode": {
    "name": "ipython",
    "version": 3
   },
   "file_extension": ".py",
   "mimetype": "text/x-python",
   "name": "python",
   "nbconvert_exporter": "python",
   "pygments_lexer": "ipython3",
   "version": "3.6.5"
  }
 },
 "nbformat": 4,
 "nbformat_minor": 2
}
